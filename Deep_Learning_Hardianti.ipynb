{
  "nbformat": 4,
  "nbformat_minor": 0,
  "metadata": {
    "colab": {
      "provenance": []
    },
    "kernelspec": {
      "name": "python3",
      "display_name": "Python 3"
    },
    "language_info": {
      "name": "python"
    }
  },
  "cells": [
    {
      "cell_type": "code",
      "execution_count": null,
      "metadata": {
        "id": "TL-xvmOiby2S"
      },
      "outputs": [],
      "source": [
        "pip install transformers"
      ]
    },
    {
      "cell_type": "code",
      "source": [
        "from transformers import pipeline\n",
        "\n",
        "pl = pipeline(\"text-generation\", model=\"medalpaca/medalpaca-7b\", tokenizer=\"medalpaca/medalpaca-7b\", max_new_tokens = 1000)\n",
        "question = \"What are the symptoms of diabetes?\"\n",
        "context = \"Diabetes is a metabolic disease that causes high blood sugar. The symptoms include increased thirst, frequent urination, and unexplained weight loss.\"\n",
        "answer = pl(f\"Context: {context}\\n\\nQuestion: {question}\\n\\nAnswer: \")\n",
        "print(answer)"
      ],
      "metadata": {
        "id": "rtp00iqvcmns"
      },
      "execution_count": null,
      "outputs": []
    },
    {
      "cell_type": "code",
      "source": [
        "input_text = \"How to cure fever\"\n",
        "response = model(input_text)[0][\"generated_text\"]\n",
        "response = response.replace(input_text, \"Answer: \")\n",
        "response"
      ],
      "metadata": {
        "id": "dRLZNIo1c-Cu"
      },
      "execution_count": null,
      "outputs": []
    }
  ]
}